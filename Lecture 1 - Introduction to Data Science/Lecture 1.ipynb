{
 "cells": [
  {
   "cell_type": "markdown",
   "metadata": {
    "slideshow": {
     "slide_type": "slide"
    }
   },
   "source": [
    "# Lecture 1 - Introduction to Data Science"
   ]
  },
  {
   "cell_type": "markdown",
   "metadata": {
    "slideshow": {
     "slide_type": "subslide"
    }
   },
   "source": [
    "## What is Data Science?"
   ]
  },
  {
   "cell_type": "markdown",
   "metadata": {
    "slideshow": {
     "slide_type": "subslide"
    }
   },
   "source": [
    "<div><img src=\"figures/DataScience.png\", width=\"800\"><!div>"
   ]
  },
  {
   "cell_type": "markdown",
   "metadata": {
    "slideshow": {
     "slide_type": "subslide"
    }
   },
   "source": [
    "**Data Science** is a broad inter-disciplinary field.\n",
    "\n",
    "Put succinctly it can be defined as: generate **meaning** from **data**, or alternatively, turn data into **knowledge**.\n",
    "\n",
    "* **Data** is any type of measurable information. For example: ratings on an Amazon product (numerical or written), heart rate as collected through a wearable device, number of scored shots in a given basketball game \n",
    "* The **knowledge** extracted from data uses probability and  statistical principles, often times summarized in form of a plot"
   ]
  },
  {
   "cell_type": "markdown",
   "metadata": {
    "slideshow": {
     "slide_type": "subslide"
    }
   },
   "source": [
    "### Some examples of data science problems we have studied in previous years:\n",
    "\n",
    "* Do gun laws reduce firearms mortality?\n",
    "\n",
    "* If we look at the effect of state laws on firearms mortalities, what other factors might be responsible for any observed differences? Do urban and rural states have different firearms mortalities? How about richer or poorer states?\n",
    "\n",
    "* Do males score higher on standardized high school math and science tests than females?\n",
    "\n",
    "* Do first pregnancies last longer than other pregnancies?\n",
    "\n",
    "* How should we measure the effectiveness of medical tests, including risks with false identification and missed detection of disease?"
   ]
  },
  {
   "cell_type": "markdown",
   "metadata": {
    "slideshow": {
     "slide_type": "subslide"
    }
   },
   "source": [
    "## What tools will we use to perform data science?\n",
    "\n",
    "<div><img src=\"figures/tools.png\", width=\"800\"><!div>"
   ]
  },
  {
   "cell_type": "markdown",
   "metadata": {
    "cell_style": "center",
    "slideshow": {
     "slide_type": "subslide"
    }
   },
   "source": [
    "## Why should you care?\n",
    "\n",
    "According to **CareerCast**'s report [The Best Jobs of 2019](https://www.careercast.com/jobs-rated/best-jobs-of-2019?page=0):\n",
    "\n",
    "<div class=\"alert alert-info\" role=\"alert\">\n",
    "  <strong>1. Data Scientist</strong>\n",
    "  \n",
    "Overall Rating: 97\n",
    "\n",
    "Median Salary: \\\\$114,520\n",
    "\n",
    "Projected Growth: 19%\n",
    "</div>\n",
    "\n",
    "<div class=\"alert alert-info\" role=\"alert\">\n",
    "  <strong>2. Statistician</strong>\n",
    "  \n",
    "Overall Rating: 110\n",
    "\n",
    "Median Salary: \\\\$84,760\n",
    "\n",
    "Projected Growth: 33%\n",
    "</div>"
   ]
  },
  {
   "cell_type": "markdown",
   "metadata": {
    "slideshow": {
     "slide_type": "subslide"
    }
   },
   "source": [
    "# EEL 4930 - Data Science for ECE\n",
    "\n",
    "**Course Description:** (4 credits) Analysis, processing, simulation, and reasoning of data. Includes data conditioning and plotting, linear algebra, statistical methods, probability, simulation, and experimental design.\n",
    "\n",
    "* **<font color=blue>This course relies on both programming and math!</font>**\n",
    "\n",
    "* We will use Python almost every day, for class assignments, **and for exams**\n",
    "\n",
    "![DataScienceSoftware](https://i2.wp.com/r4stats.com/wp-content/uploads/2019/05/Fig-1a-IndeedJobs-2019-1.png?w=650)"
   ]
  },
  {
   "cell_type": "markdown",
   "metadata": {
    "slideshow": {
     "slide_type": "subslide"
    }
   },
   "source": [
    "## Programming in Python\n",
    "\n",
    "* You are **not** expected to already know Python\n",
    "* However, you do need good basic programming skills to do well in this course"
   ]
  },
  {
   "cell_type": "markdown",
   "metadata": {
    "slideshow": {
     "slide_type": "subslide"
    }
   },
   "source": [
    "#### What Python proficiency to expect to learn in this class?\n",
    "\n",
    "I will **not** teach you everything you need to know about Python during class hours; instead, I will teach you how to use it for visualization, data processing, simulation, etc.\n",
    "\n",
    "* I **will** provide you with lots of resources and help to get going in Python\n",
    "\n",
    "* I **will** be available during office hours to help you with Python issues"
   ]
  },
  {
   "cell_type": "markdown",
   "metadata": {
    "slideshow": {
     "slide_type": "subslide"
    }
   },
   "source": [
    "## Analytical work\n",
    "\n",
    "I will also be doing analytical probability and statistics, which will require you to be proficient in Calculus.\n",
    "\n",
    "* I have uploaded to Canvas a Jupyter Notebook with review material up to Calculus II (equivalent to MAC 2312).\n",
    "* No prior knowledge of probability or statistics is needed\n",
    "\n",
    "**Pre-requisite:** MAC 2312 (Calculus 2), students are expected to bring a portable computer to class meetings. Students need basic programming skills."
   ]
  },
  {
   "cell_type": "markdown",
   "metadata": {
    "slideshow": {
     "slide_type": "subslide"
    }
   },
   "source": [
    "## How does a typical lecture looks like?\n",
    "\n",
    "A typical lecture will be similar to the \"Programming with Python\" video I uploaded to our Canvas page, view it [here](https://ufl.instructure.com/courses/404371/pages/orientation).\n",
    "\n",
    "* I will publish the class notes (Jupyter notebooks) before every lecture\n",
    "* During class, I will live code\n",
    "* I will share the notebook with edits after class\n",
    "* In lectures with analytical problems, I will use my iPad using the [Explain Everything app](https://explaineverything.com/download/) as a virtual whiteboard\n",
    "* I will share handwritten whiteboard pages after class"
   ]
  },
  {
   "cell_type": "markdown",
   "metadata": {
    "slideshow": {
     "slide_type": "subslide"
    }
   },
   "source": [
    "## Course Objectives (as time allows)\n",
    "\n",
    "Upon completion of this course, the student will be able to:\n",
    "\n",
    "1. Generate visualizations to expose meaning in data\n",
    "2. Generate and understand the meaning and uses of summary statistics of data\n",
    "3. Model random phenomena using random variables\n",
    "4. Generate random variables with specified densities or distributions\n",
    "5. Conduct hypothesis tests using simulations and analysis\n",
    "6. Understand and use conditioning to simplify problems\n",
    "7. Estimate parameters of distributions from samples\n",
    "8. Understand dependence and independence among random phenomena\n",
    "9. Use statistical tests to determine or characterize dependence among random phenomena\n",
    "10. Design experiments to understand random phenomena\n",
    "11. Understand the difference between Bayesian statistics and classical statistics\n",
    "12. Use simulation to calculate Bayesian statistics\n",
    "13. Apply linear algebra for data processing and statistical calculations\n",
    "\n",
    "The main goal of this course is to equip the students with a data science mindset for successful practical implementations, in particular: understand, analyze, and design an approach to work with a data science or electrical engineering problem."
   ]
  },
  {
   "cell_type": "markdown",
   "metadata": {
    "slideshow": {
     "slide_type": "subslide"
    }
   },
   "source": [
    "### Contribution of course to meeting the professional component\n",
    "\n",
    "4 credits of Engineering Science\n",
    "\n",
    "**Relationship of course to program outcomes:**\n",
    "1. An ability to identify, formulate, and solve engineering problems by applying principles of engineering, science, and mathematics. $\\Rightarrow$ High\n",
    "\n",
    "2. An ability to apply both analysis and synthesis in the engineering design process, resulting in designs that meet desired needs. $\\Rightarrow$ High\n",
    "\n",
    "3. An ability to develop and conduct appropriate experimentation, analyze and interpret data, and use engineering judgment to draw conclusions. $\\Rightarrow$ High"
   ]
  },
  {
   "cell_type": "markdown",
   "metadata": {
    "slideshow": {
     "slide_type": "subslide"
    }
   },
   "source": [
    "## Instructor\n",
    "\n",
    "**Dr. Catia S. Silva** (preferred Dr. Silva or Prof. Silva)\n",
    "\n",
    "* Office: *my make-up home office* or NEB 467\n",
    "* Phone: (352) 392-6502\n",
    "* Email: catiaspsilva@ece.ufl.edu (email via Canvas is preferred)\n",
    "* [Office hours](https://ufl.instructure.com/courses/404371/pages/office-hours): Mondays, Wednesdays and Fridays 3:00 PM - 4:00 PM (EST zone) via Zoom"
   ]
  },
  {
   "cell_type": "markdown",
   "metadata": {
    "slideshow": {
     "slide_type": "subslide"
    }
   },
   "source": [
    "## Time commitment\n",
    "\n",
    "We will meet 4 classes/week, 50 minutes each. \n",
    "\n",
    "Sometimes (not every week) I will post additional video recordings to watch before class. I typically keep them short, 20-30 minutes.\n",
    "\n",
    "As a student, I used the *Rule of Four Passes* to determine the time commitment for a course:\n",
    "\n",
    "* Essentially it takes at least four complete passes through your lecture materials from start to finish to be able to retain it for the exam. \n",
    "* The first pass is during lecture time (50 minutes) where you listen, take notes and ask questions. \n",
    "* The second pass goal is to understand the material more deeply, typically you rewrite your in-class notes, find answers to misunderstandings or unanswered questions, and implement coding examples yourself.\n",
    "* The third pass you will rigorously connect the material between lectures by using your notes and coding from pass 2, and will identify important concepts to retain.\n",
    "* The fourth pass is self-review, where you review all material, quiz yourself, practice textbook or previous exams exercises.\n",
    "\n",
    "Expect approximately 5-6 hours/week to study lecture notes, plus additional time for homeworks."
   ]
  },
  {
   "cell_type": "markdown",
   "metadata": {
    "slideshow": {
     "slide_type": "subslide"
    }
   },
   "source": [
    "## Textbooks and Software Required\n",
    "\n",
    "1. **Anaconda Distribution**\n",
    "\n",
    "* with Python 3.8\n",
    "* It includes all libraries, modules and tools we will use: Jupyter notebooks, ```NumPy```, ```Matplotlib```, ```SciPy```, ```Pandas```, ```scikit-learn```, ```random```\n",
    "* Download it [here](https://www.anaconda.com/products/individual)\n",
    "\n",
    "<h5 align=\"center\">Some popular libraries in Anaconda</h5>\n",
    "\n",
    "![Anaconda](https://www.anaconda.com/imager/assetsdo/Products/8031/open-source-logos2x_680db6b6f11f9cc710dd7defae241cd3.png)"
   ]
  },
  {
   "cell_type": "markdown",
   "metadata": {
    "slideshow": {
     "slide_type": "subslide"
    }
   },
   "source": [
    "You have 2 options to manage your packages and virtual environment/s:\n",
    "\n",
    "1. using ```pip```. System that manages Python packages.\n",
    "2. using ```conda```. System that manages packages that may be written in any programming language. \n",
    "\n",
    "Since we will use Python packages, you can use either one of these systems to manage your virtual environment. Which one to use typically comes with your specific needs. I typically use ```conda``` and that would be sufficient for this course. \n",
    "\n",
    "To create and manage your **virtual environments**, here are good sources:\n",
    "\n",
    "* using ```conda``` to [manage virtual environments](https://docs.conda.io/projects/conda/en/latest/user-guide/tasks/manage-environments.html?highlight=environment#creating-an-environment-with-commands).\n",
    "* using ```pip``` to [manage virtual environments](https://packaging.python.org/guides/installing-using-pip-and-virtual-environments/)."
   ]
  },
  {
   "cell_type": "markdown",
   "metadata": {
    "cell_style": "split",
    "slideshow": {
     "slide_type": "subslide"
    }
   },
   "source": [
    "2. **Introduction to Probability**\n",
    "\n",
    "* Author: Dimitri P. Bertsekas, John N. Tsitsiklis\n",
    "* Edition: 2nd\n",
    "* Publisher: Athena Scientific\n",
    "* Year: 2008\n",
    "* ISBN: 978-1-886529-23-6\n",
    "\n",
    "An **e-book version** will be cheaper and is perfectly fine for this course. The authors created an instructional digital version of the book and you can download it [here](http://faculty.pucit.edu.pk/faisal/ma249/book.pdf)\n",
    "\n",
    "![BertsekasTextbook](https://images-na.ssl-images-amazon.com/images/I/51YN28ow7rL._SX389_BO1,204,203,200_.jpg)"
   ]
  },
  {
   "cell_type": "markdown",
   "metadata": {
    "cell_style": "split",
    "slideshow": {
     "slide_type": "subslide"
    }
   },
   "source": [
    "3. **Introduction to Applied Linear Algebra - Vectors, Matrices, and Least Squares**\n",
    "\n",
    "* Author: Stephen Boyd\n",
    "* Edition: 1st\n",
    "* Publisher: Cambridge University Press\n",
    "* Year: 2018\n",
    "* ISBN: 978-1-886529-23-6\n",
    "\n",
    "An **e-book version** will be cheaper and is perfectly fine for this course: you can download it [here](http://vmls-book.stanford.edu/vmls.pdf)\n",
    "\n",
    "![BoydTextbook](https://images-na.ssl-images-amazon.com/images/I/418ANMKbtQL._SX379_BO1,204,203,200_.jpg)"
   ]
  },
  {
   "cell_type": "markdown",
   "metadata": {
    "slideshow": {
     "slide_type": "subslide"
    }
   },
   "source": [
    "* Additional reading will be listed in our Canvas page\n",
    "* All extra reading materials will be pointed to **digitally-available** books posted on Course Reserves"
   ]
  },
  {
   "cell_type": "markdown",
   "metadata": {
    "slideshow": {
     "slide_type": "subslide"
    }
   },
   "source": [
    "## Course Schedule\n",
    "\n",
    "A complete course schedule can be found in our [Syllabus](https://ufl.instructure.com/courses/404371/files/folder/Syllabus?preview=51631926).\n",
    "\n",
    "The semester will have 2 parts:\n",
    "\n",
    "1. **Probability and Statistics.** Main textbook will be \"Introduction to Probability\". Week 1-8 (~30 lectures)\n",
    "2. **Linear Algebra.** Main textbook will be \"Introduction to Applied Linear Algebra\". Week 9-15 (~23 lectures)"
   ]
  },
  {
   "cell_type": "markdown",
   "metadata": {
    "slideshow": {
     "slide_type": "subslide"
    }
   },
   "source": [
    "<h2 align=\"center\">Have you heard of Zoom?</h2>\n",
    "\n",
    "\n",
    "![Zoom](https://cuit.columbia.edu/sites/default/files/styles/cu_crop/public/content/zoom-logo-transparent-6.png?itok=PJk3QEss)"
   ]
  },
  {
   "cell_type": "markdown",
   "metadata": {
    "slideshow": {
     "slide_type": "subslide"
    }
   },
   "source": [
    "## Zoom Settings and Expectations\n",
    "\n",
    "1. Choose to turn on your camera. It will help me *read your faces* and identify clarity issues. \n",
    "\n",
    "2. I will ask you to mute your microphones through the lesson unless you have a question/comment.\n",
    "\n",
    "3. Ask questions! To ask a question in class, either:\n",
    "    * Unmute your microphone and speak up\n",
    "    * Type your question in the chat box\n",
    "    * Raise your hand, using the *raise hand* feature (under center-low bar --> People --> Raise Hand)\n",
    "    \n",
    "4. All lectures will be **recorded** (audio and video). All videos will be available to you in our Canvas page under \"Zoom Conferences\" icon.\n",
    "    * Students who participate with their camera engaged or utilize a profile image are agreeing to have their video or image recorded. \n",
    "    * If you are unwilling to consent to have your profile or video image recorded, be sure to keep your camera off and do not use a profile image. \n",
    "    * Likewise, students who unmute during class and participate orally are agreeing to have their voices recorded. If you are not willing to consent to have your voice recorded during class, you will need to keep your mute button activated and communicate exclusively using the \"chat\" feature, which allows students to type questions and comments live. \n",
    "    * The chat will **not** be recorded or shared. As in all courses, unauthorized recording and unauthorized sharing of recorded materials is prohibited."
   ]
  },
  {
   "cell_type": "markdown",
   "metadata": {
    "slideshow": {
     "slide_type": "subslide"
    }
   },
   "source": [
    "## Course Homepage\n",
    "\n",
    "In this course we will use two main *households*:\n",
    "\n",
    "1. [Canvas page](https://ufl.instructure.com/courses/404371): I will post announcements, you will send/receive emails, participation assignments through discussion boards, question and answering on assignment issues through discussion boards.\n",
    "\n",
    "2. [GitHub Organization](https://github.com/Data-Science-for-ECE-F20): I will post all lecture notes in this private organization. You will complete all assignments in a private repository and send its URL to Canvas as the assignment submission.\n",
    "    * In order to receive an invite to join the organization, join the GitHub Classroom first by accepting to create a [Short Assignment 0](https://ufl.instructure.com/courses/404371/assignments/4332677) repository.\n",
    "    * **Clone (at least) the \"Lectures\" repository to your local machine and pull from that repository before class**\n",
    "    * Be sure to [download Git](https://git-scm.com/downloads)\n",
    "    * Complete one (or a few) introductory tutorials:\n",
    "        * Git bootcamp: https://help.github.com/categories/bootcamp/\n",
    "        * Tutorials: https://www.atlassian.com/git/tutorials/\n",
    "        * Interactive Introduction: https://try.github.io/"
   ]
  },
  {
   "cell_type": "markdown",
   "metadata": {
    "slideshow": {
     "slide_type": "subslide"
    }
   },
   "source": [
    "## Course Policies\n",
    "\n",
    "Please read the syllabus carefully.\n",
    "\n",
    "1. **How to get help:** Other than office hours, you can contact me via email (via Canvas or using my email address), call me on my cellphone, or use the Slack channel to communicate with your classmates.\n",
    "    * Slack channel: https://join.slack.com/t/uf-eel4930-fall2020/shared_invite/zt-gp53hhdv-vsxWciTfhQlNh_TU7hvibQ\n",
    "    \n",
    "2. **Attendance:** I expect students to attend class, and graded evaluations (participation, in-class assignments) will be given during class. If you are living in a different time zone or have anticipate any issues with e.g. internet connection, schedule conflict, etc., please email me so I'm informed and will not *penalize* participation points.\n",
    "\n",
    "3. **Grading:** make sure you submissions are carefully completed with clean and well documented code. Make full use of Jupyter features, such as markdown cells. Individual assignments will **not** be curved. Final grades **will** be curved.\n",
    "\n",
    "4. **Late Work:** I will accept all assignment submissions as long as solutions have not yet been released, but you will lose the **on-time** points listed in the rubric. Solutions will typically be released up to 1 week after the assignment is due.\n",
    "\n",
    "5. **Make-Up Policy:** If you feel that any assignment needs to be re-graded, you must discuss this with me within 1 week of grades being posted. If approved, the entire assignment will be subject to complete evaluation. Excused absences must be consistent with university policies in the [undergraduate catalog](https://catalog.ufl.edu/ugrad/current/regulations/info/attendance.aspx) and require appropriate documentation\n",
    "\n",
    "6. **Collaboration:** healthy collaboration is encouraged. If another student contributes substantially to your understanding of a problem, you should cite this student. You will not be negatively judged for citing another student.\n",
    "\n",
    "7. **Cheating and Plagiarism:** you are expected to submit your own work. If you are suspected of dishonest academic activity, I will invite you to discuss it further in private. Academic dishonesty will likely result in grade reduction, with severity depending on the nature of the dishonest activity. I am obligated to report on academic misconduct with a letter to the department, college and/or university leadership. Repeat offenses will be treated with significantly greater severity."
   ]
  },
  {
   "cell_type": "markdown",
   "metadata": {
    "slideshow": {
     "slide_type": "subslide"
    }
   },
   "source": [
    "## Grading\n",
    "\n",
    "Grading will be based on: \n",
    "\n",
    "|Assignment|Total|Percentage Final Grade|\n",
    "|---|---|---|\n",
    "| Exams | 3 | 20% each|\n",
    "| Homework | ~ 5 | 20%|\n",
    "| Short Assignments | ~ 12 | 10% |\n",
    "| Participation | ~10 + in-class | 10%|\n",
    "\n",
    "**Homeworks** will have 2 parts: (1) analytical exercises, typically solved on paper. (2) practical problems to be implemented in Python.\n",
    "\n",
    "**Exams** will be drawn from lectures and readings. Practice exams will be provided. Exams are conducted via Honorlock.\n",
    "\n",
    "**Short Assignments** will typically consists of short problems to help consolidate and retain the information learned in class.\n",
    "\n",
    "**Participation** will be in the form of discussion boards participation **and** in-class participation (attending class also counts as participation)"
   ]
  },
  {
   "cell_type": "markdown",
   "metadata": {
    "slideshow": {
     "slide_type": "subslide"
    }
   },
   "source": [
    "### Honorlock\n",
    "\n",
    "The midterm and final exams will be conducted via **Honorlock**. \n",
    "\n",
    "Honorlock is an online proctoring platform. Be sure to read the syllabus to find out what you will need to take an exam with Honorlock."
   ]
  },
  {
   "cell_type": "markdown",
   "metadata": {
    "slideshow": {
     "slide_type": "subslide"
    }
   },
   "source": [
    "**<h2 align=\"center\"><font color=orange> Mark your calendars!</font></h2>**\n",
    "\n",
    "* **<font color=blue> Exam 1 Date (for both sections): Thursday, October 6</font>**\n",
    "\n",
    "* **<font color=blue> Exam 2 Date (for both sections): Thursday, November 10</font>**\n",
    "\n",
    "Use Canvas to select all time slots that work for you for both exams: [Canvas Survey](https://ufl.instructure.com/courses/404371/quizzes/883723)\n",
    "\n",
    "* **<font color=blue> Final Exam Date (scheduled)</font>**\n",
    "    * **<font color=blue> section 0003: Friday, December 18 @ 7:30 AM - 9:30 AM</font>**\n",
    "    * **<font color=blue> section 0004: Wednesday, December 16 @ 3:00 PM - 5:00 PM</font>**"
   ]
  },
  {
   "cell_type": "markdown",
   "metadata": {
    "slideshow": {
     "slide_type": "subslide"
    }
   },
   "source": [
    "#### Grading Scale\n",
    "\n",
    "|Percent|Grade|Grade Points|\n",
    "|--|--|--|\n",
    "|93.4 - 100| A| 4.00|\n",
    "|90.0 - 93.3| A-|3.67|\n",
    "|86.7 - 89.9| B+|3.33|\n",
    "|83.4 - 86.6| B |3.00|\n",
    "|80.0 - 83.3| B- |2.67|\n",
    "|76.7 - 79.9| C+ |2.33|\n",
    "|73.4 - 76.6| C |2.00|\n",
    "|70.0 - 73.3| C- |1.67|\n",
    "|66.7 - 69.9| D+ |1.33|\n",
    "|63.4 - 66.6| D |1.00|\n",
    "|60.0 - 63.3| D- |0.67|\n",
    "|0 - 59.9| E |0.00|"
   ]
  },
  {
   "cell_type": "markdown",
   "metadata": {
    "slideshow": {
     "slide_type": "subslide"
    }
   },
   "source": [
    "## Students Requiring Accommodations\n",
    "\n",
    "Students with disabilities who experience learning barriers and would like to request academic accommodations should connect with the disability Resource Center by visiting https://disability.ufl.edu/students/get-started/. \n",
    "\n",
    "* Please make sure you share your accommodation letter with me as soon as you have it, so we can discuss your access needs."
   ]
  },
  {
   "cell_type": "markdown",
   "metadata": {
    "slideshow": {
     "slide_type": "subslide"
    }
   },
   "source": [
    "## Course Evaluations\n",
    "\n",
    "You are expected to provide professional and respectful feedback on the quality of instruction in this course by completing the course evaluations online via GatorEvals.\n",
    "\n",
    "* The University is using a relatively new evaluation system, and evaluation results are now publicly available here: https://gatorevals.aa.ufl.edu/public-results/\n",
    "\n",
    "* Guidance on how to give feedback in a professional and respectful manner is available at https://gatorevals.aa.ufl.edu/students/. \n",
    "\n",
    "* You will be notified when the evaluation period opens, and can complete evaluations through the email you receive from GatorEvals, in the Canvas course menu under GatorEvals, or via https://ufl.bluera.com/ufl/."
   ]
  },
  {
   "cell_type": "markdown",
   "metadata": {
    "slideshow": {
     "slide_type": "subslide"
    }
   },
   "source": [
    "## University Honesty Policy\n",
    "\n",
    "All UF students are bound by The Honor Pledge which states:\n",
    "\n",
    "<h5 align=\"center\">We, the members of the University of Florida community, pledge to hold ourselves and our peers to the highest standards of honor and integrity by abiding by the Honor Code. On all work submitted for credit by students at the University of Florida, the following pledge is either required or implied: \"On my honor, I have neither given nor received unauthorized aid in doing this assignment.\"</h5>\n",
    "\n",
    "The [Honor Code](https://sccr.dso.ufl.edu/policies/student-honor-code-student-conduct-code/) specifies a number of behaviors that are in violation of this code and the possible sanctions. Furthermore, you are obligated to report any condition that facilitates academic misconduct to appropriate personnel. If you have any questions or concerns, please consult with the instructor or TAs in this class."
   ]
  },
  {
   "cell_type": "markdown",
   "metadata": {
    "slideshow": {
     "slide_type": "subslide"
    }
   },
   "source": [
    "## Commitment to a Safe and Inclusive Learning Environment\n",
    "\n",
    "The Herbert Wertheim College of Engineering values broad diversity within our community and is committed to individual and group empowerment, inclusion, and the elimination of discrimination.  It is expected that every person in this class will treat one another with dignity and respect regardless of gender, sexuality, disability, age, socioeconomic status, ethnicity, race, and culture.\n",
    "\n",
    "If you feel like your performance in class is being impacted by discrimination or harassment of any kind, please contact your instructor or any of the following:\n",
    "\n",
    "* Your academic advisor or Graduate Program Coordinator\n",
    "* Robin Bielling, Director of Human Resources, 352-392-0903, rbielling@eng.ufl.edu\n",
    "* Curtis Taylor, Associate Dean of Student Affairs, 352-392-2177, taylor@eng.ufl.edu\n",
    "* Toshikazu Nishida, Associate Dean of Academic Affairs, 352-392-0943, nishida@eng.ufl.edu\n",
    "\n",
    "**Software Use**\n",
    "\n",
    "All faculty, staff, and students of the University are required and expected to obey the laws and legal agreements governing software use.  Failure to do so can lead to monetary damages and/or criminal penalties for the individual violator.  Because such violations are also against University policies and rules, disciplinary action will be taken as appropriate.  We, the members of the University of Florida community, pledge to uphold ourselves and our peers to the highest standards of honesty and integrity.\n",
    "\n",
    "**Student Privacy**\n",
    "\n",
    "There are federal laws protecting your privacy with regards to grades earned in courses and on individual assignments.  For more information, please see:  https://registrar.ufl.edu/ferpa.html\n",
    "\n"
   ]
  },
  {
   "cell_type": "markdown",
   "metadata": {
    "slideshow": {
     "slide_type": "subslide"
    }
   },
   "source": [
    "## Health and Wellness\n",
    "\n",
    "**U Matter, We Care:**\n",
    "\n",
    "Your well-being is important to the University of Florida.  The U Matter, We Care initiative is committed to creating a culture of care on our campus by encouraging members of our community to look out for one another and to reach out for help if a member of our community is in need.  If you or a friend is in distress, please contact umatter@ufl.edu so that the U Matter, We Care Team can reach out to the student in distress.  A nighttime and weekend crisis counselor is available by phone at 352-392-1575.  The U Matter, We Care Team can help connect students to the many other helping resources available including, but not limited to, Victim Advocates, Housing staff, and the Counseling and Wellness Center.  Please remember that asking for help is a sign of strength.  In case of emergency, call 9-1-1.\n",
    "\n",
    "**Counseling and Wellness Center:** http://www.counseling.ufl.edu/cwc, and  392-1575; and the University Police Department: 392-1111 or 9-1-1 for emergencies. \n",
    "\n",
    "**Sexual Discrimination, Harassment, Assault, or Violence**\n",
    "If you or a friend has been subjected to sexual discrimination, sexual harassment, sexual assault, or violence contact the Office of Title IX Compliance, located at Yon Hall Room 427, 1908 Stadium Road, (352) 273-1094, title-ix@ufl.edu\n",
    "\n",
    "**Sexual Assault Recovery Services (SARS)**, Student Health Care Center, 392-1161. \n",
    "\n",
    "**University Police Department** at 392-1111 (or 9-1-1 for emergencies), or http://www.police.ufl.edu/. \n"
   ]
  },
  {
   "cell_type": "markdown",
   "metadata": {
    "slideshow": {
     "slide_type": "subslide"
    }
   },
   "source": [
    "## Academic Resources\n",
    "\n",
    "**E-learning technical support**, 352-392-4357 (select option 2) or e-mail to Learning-support@ufl.edu. https://lss.at.ufl.edu/help.shtml.\n",
    "\n",
    "**Career Resource Center**, Reitz Union, 392-1601.  Career assistance and counseling. https://www.crc.ufl.edu/.\n",
    "\n",
    "**Library Support**, http://cms.uflib.ufl.edu/ask. Various ways to receive assistance with respect to using the libraries or finding resources.\n",
    "\n",
    "**Teaching Center**, Broward Hall, 392-2010 or 392-6420. General study skills and tutoring. https://teachingcenter.ufl.edu/.\n",
    "\n",
    "**Writing Studio, 302 Tigert Hall**, 846-1138. Help brainstorming, formatting, and writing papers. https://writing.ufl.edu/writing-studio/.\n",
    "\n",
    "**Student Complaints Campus:** https://care.dso.ufl.edu.\n",
    "\n",
    "**On-Line Students Complaints:** http://www.distance.ufl.edu/student-complaint-process."
   ]
  },
  {
   "cell_type": "markdown",
   "metadata": {
    "slideshow": {
     "slide_type": "subslide"
    }
   },
   "source": [
    "**<h1 align=\"center\">Any Questions?</h1>**"
   ]
  },
  {
   "cell_type": "markdown",
   "metadata": {
    "slideshow": {
     "slide_type": "subslide"
    }
   },
   "source": [
    "## Git Demonstration\n",
    "\n",
    "To get familiar with Git, the best thing to do is *practice*!\n",
    "\n",
    "For beginner Git users, I recommend you to watch one or a few Git tutorials:\n",
    "* Git bootcamp: https://help.github.com/categories/bootcamp/ (Links to an external site.)\n",
    "* Tutorials: https://www.atlassian.com/git/tutorials/ (Links to an external site.)\n",
    "* Interactive Introduction: https://try.github.io/"
   ]
  },
  {
   "cell_type": "markdown",
   "metadata": {
    "slideshow": {
     "slide_type": "subslide"
    }
   },
   "source": [
    "### How to ```clone``` a repository\n",
    "\n",
    "You can use **Git Bash** to clone a repo or use GitHub Desktop. **I will demonstrate how to do it using GitHub Desktop.**\n",
    "\n",
    "Let's open our organization: https://github.com/Data-Science-for-ECE-F20"
   ]
  },
  {
   "cell_type": "markdown",
   "metadata": {
    "slideshow": {
     "slide_type": "subslide"
    }
   },
   "source": [
    "### Getting the latest edits from a repository - use ```git pull```\n",
    "\n",
    "To ```pull``` from a repository, simply call ```git pull``` using Git Bash."
   ]
  },
  {
   "cell_type": "markdown",
   "metadata": {
    "slideshow": {
     "slide_type": "subslide"
    }
   },
   "source": [
    "### How to manage files within a repo\n",
    "\n",
    "The 3 most used Git commands are: ```git pull```, ```git add```, ```git commit``` and ```git push```. You can call these commands directly on the **Git Bash** console within the cloned repository on your machine.\n",
    "\n",
    "**I will know demonstrate how I ```push``` this Notebook to the \"Lectures\" repository.**"
   ]
  },
  {
   "cell_type": "markdown",
   "metadata": {
    "slideshow": {
     "slide_type": "subslide"
    }
   },
   "source": [
    "# To prepare for next class\n",
    "\n",
    "1. Install [Anaconda](https://www.anaconda.com/products/individual)\n",
    "2. Install [Git](https://git-scm.com/downloads)\n",
    "3. For beginner Git users, I recommend you to install [GitHub Desktop](https://desktop.github.com/)\n",
    "4. Watch the **\"Introduction to programming with Python\" video** I have uploaded to Canvas and follow along with the Jupyter Notebook I provided.\n",
    "5. Take a look at the **Modules** page in Canvas and get familiar with a typical lecture layout: it includes readings and activities to help you study.\n",
    "6. Create [Short Assignment 0](https://ufl.instructure.com/courses/404371/assignments/4332677) repository. You will become a collaborator to the organization and I will send you an invitation to become a member and have full access to the lectures notes and other repositories.\n",
    "    * You will **not** be able to see each other private assignment repositories.\n",
    "    * Our organization is also **private**."
   ]
  },
  {
   "cell_type": "markdown",
   "metadata": {
    "slideshow": {
     "slide_type": "subslide"
    }
   },
   "source": [
    "**<h1 align=\"center\">Any Questions?</h1>**\n",
    "\n",
    "Feel free to email me afterwards or come talk with me during office hours: MWF 3-4 PM."
   ]
  },
  {
   "cell_type": "code",
   "execution_count": null,
   "metadata": {},
   "outputs": [],
   "source": []
  }
 ],
 "metadata": {
  "celltoolbar": "Slideshow",
  "kernelspec": {
   "display_name": "Python 3",
   "language": "python",
   "name": "python3"
  },
  "language_info": {
   "codemirror_mode": {
    "name": "ipython",
    "version": 3
   },
   "file_extension": ".py",
   "mimetype": "text/x-python",
   "name": "python",
   "nbconvert_exporter": "python",
   "pygments_lexer": "ipython3",
   "version": "3.7.7"
  },
  "latex_envs": {
   "LaTeX_envs_menu_present": true,
   "autoclose": false,
   "autocomplete": true,
   "bibliofile": "biblio.bib",
   "cite_by": "apalike",
   "current_citInitial": 1,
   "eqLabelWithNumbers": true,
   "eqNumInitial": 1,
   "hotkeys": {
    "equation": "Ctrl-E",
    "itemize": "Ctrl-I"
   },
   "labels_anchors": false,
   "latex_user_defs": false,
   "report_style_numbering": false,
   "user_envs_cfg": false
  },
  "varInspector": {
   "cols": {
    "lenName": 16,
    "lenType": 16,
    "lenVar": 40
   },
   "kernels_config": {
    "python": {
     "delete_cmd_postfix": "",
     "delete_cmd_prefix": "del ",
     "library": "var_list.py",
     "varRefreshCmd": "print(var_dic_list())"
    },
    "r": {
     "delete_cmd_postfix": ") ",
     "delete_cmd_prefix": "rm(",
     "library": "var_list.r",
     "varRefreshCmd": "cat(var_dic_list()) "
    }
   },
   "types_to_exclude": [
    "module",
    "function",
    "builtin_function_or_method",
    "instance",
    "_Feature"
   ],
   "window_display": false
  }
 },
 "nbformat": 4,
 "nbformat_minor": 4
}
