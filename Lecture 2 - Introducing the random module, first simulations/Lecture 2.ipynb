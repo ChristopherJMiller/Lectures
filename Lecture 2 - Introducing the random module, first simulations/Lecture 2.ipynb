{
 "cells": [
  {
   "cell_type": "markdown",
   "metadata": {},
   "source": [
    "# Lecture 2 - Introduction to Python, Random Experiments and Simulations"
   ]
  },
  {
   "cell_type": "markdown",
   "metadata": {},
   "source": [
    "## 1. Jupyter Notebooks\n",
    "\n",
    "The Jupyter notebook is a browser-based graphical interface to the **IPython** shell, and builds on it a rich set of dynamic display capabilities.\n",
    "\n",
    "As well as executing Python/IPython statements, the notebook allows the user to include formatted text, static and dynamic visualizations, mathematical equations, and much more. Furthermore, these documents can be saved in a way that lets other people open them and execute the code on their own systems.\n",
    "\n",
    "Though the IPython notebook is viewed and edited through your web browser window, it must connect to a running Python process in order to execute code. This process (known as a \"kernel\") can be started by running one of the following ways: "
   ]
  },
  {
   "cell_type": "markdown",
   "metadata": {
    "cell_style": "center"
   },
   "source": [
    "### How to open Jupyter\n",
    "I will do a quick demonstration on how I open Jupyter Notebooks. There's no right way to do it, only your way. \n",
    "* Using Jupyter Notebook prompt (**my preferred way**)\n",
    "* Using Anaconda prompt (**probably the most popular or included in many textbooks**)\n",
    "* Using Anaconda Navigator"
   ]
  },
  {
   "cell_type": "markdown",
   "metadata": {
    "cell_style": "center"
   },
   "source": [
    "### Creating new files & Jupyter Environment\n",
    "\n",
    "I will demonstrate how to create new files with Python 3 kernels and review Jupyter Environment."
   ]
  },
  {
   "cell_type": "markdown",
   "metadata": {},
   "source": [
    "### Getting Extensions\n",
    "\n",
    "I have installed extra Jupyter functionalities supported by [Nbextensions](https://jupyter-contrib-nbextensions.readthedocs.io/en/latest/install.html). It includes a wide [list of functionalities](https://jupyter-contrib-nbextensions.readthedocs.io/en/latest/nbextensions.html) that you may find useful. **This is not required!**"
   ]
  },
  {
   "cell_type": "markdown",
   "metadata": {},
   "source": [
    "## 2. Introduction to Python (continued)"
   ]
  },
  {
   "cell_type": "markdown",
   "metadata": {},
   "source": [
    "Let's take a look at how we can customize and stylize our visualizations using ```Matplotlib```."
   ]
  },
  {
   "cell_type": "markdown",
   "metadata": {},
   "source": [
    "The first thing we need to do is import the library:"
   ]
  },
  {
   "cell_type": "code",
   "execution_count": null,
   "metadata": {},
   "outputs": [],
   "source": []
  },
  {
   "cell_type": "code",
   "execution_count": null,
   "metadata": {},
   "outputs": [],
   "source": []
  },
  {
   "cell_type": "markdown",
   "metadata": {},
   "source": [
    "On top of the normal Python syntax, IPython has *magic commands*, that are prefixed by the ```%``` character. There are many [magic commands](https://jakevdp.github.io/PythonDataScienceHandbook/01.03-magic-commands.html), these are particularly useful when using Matplotlib:"
   ]
  },
  {
   "cell_type": "code",
   "execution_count": null,
   "metadata": {},
   "outputs": [],
   "source": [
    "# will create static images of your plot embedded in the notebook\n",
    "\n"
   ]
  },
  {
   "cell_type": "code",
   "execution_count": null,
   "metadata": {},
   "outputs": [],
   "source": []
  },
  {
   "cell_type": "code",
   "execution_count": 5,
   "metadata": {},
   "outputs": [],
   "source": [
    "# will create interactive plots embedded within the notebook\n",
    "\n"
   ]
  },
  {
   "cell_type": "code",
   "execution_count": null,
   "metadata": {},
   "outputs": [],
   "source": []
  },
  {
   "cell_type": "code",
   "execution_count": 2,
   "metadata": {},
   "outputs": [],
   "source": [
    "# will create static plots outside the notebook\n",
    "\n"
   ]
  },
  {
   "cell_type": "code",
   "execution_count": null,
   "metadata": {},
   "outputs": [],
   "source": []
  },
  {
   "cell_type": "code",
   "execution_count": null,
   "metadata": {},
   "outputs": [],
   "source": []
  },
  {
   "cell_type": "code",
   "execution_count": null,
   "metadata": {},
   "outputs": [],
   "source": []
  },
  {
   "cell_type": "markdown",
   "metadata": {},
   "source": [
    "Note that this ```plot``` interpolates among the data points. I.e., we can look at an $x$ value of 14 and see that the corresponding $y$ value is around 200. But those values *do not exist* in the data.\n",
    "\n",
    "* Our choice of plot depends a lot on what we want to convey. If our data is sub-sampled from a continuous function (as in this case), then we probably want interpolation.\n",
    "\n",
    "* If we just want to see the data points, then we can instead use scatter plot:"
   ]
  },
  {
   "cell_type": "code",
   "execution_count": null,
   "metadata": {},
   "outputs": [],
   "source": []
  },
  {
   "cell_type": "markdown",
   "metadata": {},
   "source": [
    "Sometimes, we may want a contiuous function with the $y$-values held constant (known as zero-order hold) until the next data point.\n",
    "\n",
    "* That is a step or staircase plot:"
   ]
  },
  {
   "cell_type": "code",
   "execution_count": null,
   "metadata": {},
   "outputs": [],
   "source": []
  },
  {
   "cell_type": "markdown",
   "metadata": {},
   "source": [
    "Bar plots are usually used to show counts of items:"
   ]
  },
  {
   "cell_type": "code",
   "execution_count": null,
   "metadata": {},
   "outputs": [],
   "source": []
  },
  {
   "cell_type": "markdown",
   "metadata": {},
   "source": [
    "We can [**style**](https://jakevdp.github.io/PythonDataScienceHandbook/04.11-settings-and-stylesheets.html) these plots in many different ways, and we will learn about the most important ways as we go through the class.\n",
    "\n",
    "* A quick way to change your plot style is:"
   ]
  },
  {
   "cell_type": "code",
   "execution_count": null,
   "metadata": {},
   "outputs": [],
   "source": []
  },
  {
   "cell_type": "markdown",
   "metadata": {},
   "source": [
    "A style sheet reference for Matplotlib 3.1.2 is here:\n",
    "https://matplotlib.org/3.1.1/gallery/style_sheets/style_sheets_reference.html"
   ]
  },
  {
   "cell_type": "markdown",
   "metadata": {},
   "source": [
    "### Reading Source\n",
    "\n",
    "FYI, chapter 4 \"Visualization with Matplotlib\" from the online book [Python Data Science Handbook](https://jakevdp.github.io/PythonDataScienceHandbook/index.html) by Jake VanderPlas is a great resource to learn more about different types of plots, customize legends and colorbars, adding text annotations and more."
   ]
  },
  {
   "cell_type": "markdown",
   "metadata": {},
   "source": [
    "## 3. Random Experiments"
   ]
  },
  {
   "cell_type": "markdown",
   "metadata": {},
   "source": [
    "What is a random experiment?"
   ]
  },
  {
   "cell_type": "markdown",
   "metadata": {},
   "source": [
    "<div class=\"alert alert-info\" role=\"alert\">\n",
    "  <strong>Definition</strong> \n",
    "    \n",
    "A <strong>random experiment</strong> is an experiment for which the outcome is not completely predictable to an observer based on the observer's knowledge of the system and its inputs.\n",
    "</div>"
   ]
  },
  {
   "cell_type": "markdown",
   "metadata": {},
   "source": [
    "<div class=\"alert alert-info\" role=\"alert\">\n",
    "  <strong>Definition</strong>\n",
    "    \n",
    "An <strong>outcome</strong> is a non-decomposable result (or output) of a random experiment.\n",
    "</div>"
   ]
  },
  {
   "cell_type": "markdown",
   "metadata": {},
   "source": [
    "Examples:\n",
    "\n",
    "1. Outcomes of flipping a coin: H, T\n",
    "\n",
    "2. Outcomes of rolling a die: 1,2,3,4,5,6\n",
    "    * example that is not an outcome: even=2 or 4 or 6 (decomposable)\n",
    "\n",
    "3. Outcomes for temperature: real numbers\n",
    "    * example that is not an outcome: >=90 \n",
    "\n",
    "4. Outcomes for favorite color"
   ]
  },
  {
   "cell_type": "markdown",
   "metadata": {},
   "source": [
    "<div class=\"alert alert-info\" role=\"alert\">\n",
    "  <strong>Definition</strong>\n",
    "    \n",
    "The set of all possible outcomes of a random experiment is called the <strong>sample space</strong> (or sometime the <strong>universal set</strong>). The sample space is denoted by $S$ or $\\Omega$.\n",
    "</div>\n",
    "\n",
    "(A **set** is an unordered collection of *unique* items. More information on sets and set operations will be posted to the course website.)"
   ]
  },
  {
   "cell_type": "markdown",
   "metadata": {},
   "source": [
    "### Random Experiment example\n",
    "\n",
    "Let's consider the following experiment:\n",
    "\n",
    "Given a coin:\n",
    "\n",
    "1. What is the sample space for 1 flip of the coin? <!--{H, T}-->\n",
    "\n",
    "2. What is the sample space look like for 20 flips of the coin? <!--{all possible ($x_1$,$x_2$,$\\dots$,$x_{20}$) where each $x_i$ is in $\\{H,T\\}$}-->"
   ]
  },
  {
   "cell_type": "markdown",
   "metadata": {},
   "source": [
    "<div class=\"alert alert-info\" role=\"alert\">\n",
    "  <strong>Definition</strong>\n",
    "    \n",
    "A set of outcomes $E \\subset S$ (meaning $E$ is a subset of $S$) is called an <strong>event</strong>. We say that an event $E$ occurs if any of the outcomes in $E$ is the result of the experiment.\n",
    "</div>"
   ]
  },
  {
   "cell_type": "markdown",
   "metadata": {},
   "source": [
    "Examples:\n",
    "\n",
    "* A die comes up even <!--$E=\\{2,4,6\\}$-->\n",
    "* The temperature is less than 40 degrees <!--$E=(-\\infty, 40)$-->"
   ]
  },
  {
   "cell_type": "markdown",
   "metadata": {},
   "source": [
    "<div class=\"alert alert-info\" role=\"alert\">\n",
    "  <strong>Definition</strong>\n",
    "    \n",
    "The <strong>event class</strong> is the set of all events to which we assign probability. For our purposes, it is a set of subsets of $S$. \n",
    "</div>\n",
    "\n",
    "If $S$ is finite, then the event class can be taken to be the power set of $S$ (the set of **all** subsets of $S$)."
   ]
  },
  {
   "cell_type": "markdown",
   "metadata": {},
   "source": [
    "Examples:\n",
    "\n",
    "* What is the event class for flipping a coin? <!--{ {H}, {T}, {H,T}, null} -->\n",
    "* What is the event class for rolling a die? <!--{null, {1}, {2},..., {6}, {1,2}, {1,3}, ..., {1,6}, ..., {6,6}, {1,2,3},...}-->"
   ]
  },
  {
   "cell_type": "markdown",
   "metadata": {},
   "source": [
    "## 4. First Random Experiment and Simulations"
   ]
  },
  {
   "cell_type": "markdown",
   "metadata": {},
   "source": [
    "Consider the following questions:\n",
    "\n",
    "1. **If you flip a coin 20 times, how many times do you think it will come up heads?**\n",
    "\n",
    "2. **If you flip the coin 20 times and it comes up heads 6 times, do you think it is a *fair* or *unfair* coin? How *confident* can you be in your answer?**"
   ]
  },
  {
   "cell_type": "markdown",
   "metadata": {},
   "source": [
    "* Can you conduct an experiment to answer these questions? \n",
    "\n",
    "* What problems may you encounter in conducting this experiment? How can we overcome these problems?"
   ]
  },
  {
   "cell_type": "markdown",
   "metadata": {},
   "source": [
    "Answers:\n",
    "1. We expect the answer will be about 10 because the coin will come up heads one-half the time.\n",
    "\n",
    "2. We don't know yet how to answer this."
   ]
  },
  {
   "cell_type": "markdown",
   "metadata": {},
   "source": [
    "If we take a **fair coin** and flip it 20 times and count the number of heads, and then **repeat the experiment many times**, we can **estimate** how often 6 or fewer heads occurs. If it occurs very rarely (say, less than 5% of the time, then we can say that the coin is unlikely to be fair).\n",
    "\n",
    "*Here we use 6 or fewer heads because if 5 heads occurs, that is an even  more extreme outcome than 6 heads occurring, and so we want to count up how often we see an outcome as extreme OR MORE as 6 heads occurring.*"
   ]
  },
  {
   "cell_type": "markdown",
   "metadata": {},
   "source": [
    "* The **problem** is that we may need to repeat the experiment (of flipping the coin 20 times) many times to accurately estimate how often 6 or fewer heads come up. This may require thousands of coin flips!"
   ]
  },
  {
   "cell_type": "markdown",
   "metadata": {},
   "source": [
    "We can overcome this problem by using a computer to flip the coin in a **simulation**. A **computer simulation** is a computer program that models reality and allows us to conduct experiments that:\n",
    "\n",
    "* would require a lot of time to carry out in real life\n",
    "* would require a lot of resources to carry out in real life\n",
    "* would not be possible to repeat in real life (for instance, simulation of the next day's weather or stock market performance)"
   ]
  },
  {
   "cell_type": "markdown",
   "metadata": {},
   "source": [
    "Let's build simulations of our coin flip experiment and learn about some Python libraries:"
   ]
  },
  {
   "cell_type": "code",
   "execution_count": 3,
   "metadata": {},
   "outputs": [],
   "source": [
    "# Simple library for working with random phenomena\n",
    "\n"
   ]
  },
  {
   "cell_type": "code",
   "execution_count": 4,
   "metadata": {},
   "outputs": [],
   "source": [
    "# Create our sample space -- here we use a list instead of a set\n",
    "# as the Python object to represent S\n",
    "\n"
   ]
  },
  {
   "cell_type": "code",
   "execution_count": null,
   "metadata": {},
   "outputs": [],
   "source": []
  },
  {
   "cell_type": "code",
   "execution_count": null,
   "metadata": {},
   "outputs": [],
   "source": []
  },
  {
   "cell_type": "code",
   "execution_count": null,
   "metadata": {},
   "outputs": [],
   "source": []
  },
  {
   "cell_type": "code",
   "execution_count": null,
   "metadata": {},
   "outputs": [],
   "source": []
  },
  {
   "cell_type": "code",
   "execution_count": null,
   "metadata": {},
   "outputs": [],
   "source": []
  },
  {
   "cell_type": "code",
   "execution_count": null,
   "metadata": {},
   "outputs": [],
   "source": []
  },
  {
   "cell_type": "markdown",
   "metadata": {},
   "source": [
    "Running this repeatedly is a pain! Fortunately, the computer can automatically run it for us:"
   ]
  },
  {
   "cell_type": "code",
   "execution_count": null,
   "metadata": {},
   "outputs": [],
   "source": []
  },
  {
   "cell_type": "markdown",
   "metadata": {},
   "source": [
    "Suppose we want to see how often 6 or fewer heads occurs. We can reduce the printing by only printing those extreme events:"
   ]
  },
  {
   "cell_type": "code",
   "execution_count": null,
   "metadata": {},
   "outputs": [],
   "source": []
  },
  {
   "cell_type": "markdown",
   "metadata": {},
   "source": [
    "* We really don't care about the particular experiment on which those events occur. Instead, we are really just looking at the **frequency** of those events."
   ]
  },
  {
   "cell_type": "markdown",
   "metadata": {},
   "source": [
    "<div class=\"alert alert-info\" role=\"alert\">\n",
    "  <strong>Definition</strong>\n",
    "    \n",
    "The <strong>relative frequency</strong> of an event is the number of times that an event occurs divided by the number of times the experiment is conducted. \n",
    "</div>"
   ]
  },
  {
   "cell_type": "markdown",
   "metadata": {},
   "source": [
    "Let's modify the experiment to calculate the relative frequency of getting 6 or fewer heads on 20 flips of a fair coin:"
   ]
  },
  {
   "cell_type": "code",
   "execution_count": null,
   "metadata": {},
   "outputs": [],
   "source": []
  },
  {
   "cell_type": "markdown",
   "metadata": {},
   "source": [
    "**How does the relative frequency change with the *number of experiments* simulated?**\n",
    "\n",
    "* For 1M simulated experiments, what is the relative frequency of 6 or fewer heads?"
   ]
  },
  {
   "cell_type": "code",
   "execution_count": null,
   "metadata": {},
   "outputs": [],
   "source": []
  },
  {
   "cell_type": "markdown",
   "metadata": {},
   "source": [
    "* For 1M simulated experiments, what is the relative frequency of 4 or fewer heads?"
   ]
  },
  {
   "cell_type": "code",
   "execution_count": null,
   "metadata": {},
   "outputs": [],
   "source": []
  },
  {
   "cell_type": "markdown",
   "metadata": {},
   "source": [
    "* What is your conclusion about whether this could be a fair coin?"
   ]
  },
  {
   "cell_type": "markdown",
   "metadata": {},
   "source": [
    "### Binary Hypothesis Testing\n",
    "\n",
    "This is an example of **binary hypothesis testing**. In this case, we set up two hypothesis:\n",
    "\n",
    "<div class=\"alert alert-info\">\n",
    "    <b>Hypothesis Test</b>\n",
    "    \n",
    "$H_0$: (the *null hypothesis*) is that the observed effect is just caused by randomness in the sampling. It is not real in the underlying system or data. For this exampe, our null hypothesis is that the coin is actually fair.\n",
    "\n",
    "$H_1$: (the *alternative hypothesis*) is that the observed effect is not just caused by random sampling. In this example, the coin is biased toward Tails.\n",
    "</div>"
   ]
  },
  {
   "cell_type": "markdown",
   "metadata": {},
   "source": [
    "In *classical statistics* when conducting hypothesis testing, we say that an effect is **<span style=\"color:blue\">statistically significant</span>** if the relative frequency/probability of observing an effect of that size under the null hypothesis is **smaller than some small threshold value $\\alpha$**. \n",
    "\n",
    "* Typical values of $\\alpha$ are 0.05 or 0.01, but many argue for even smaller values now. \n",
    "\n",
    "* **The threshold $\\alpha$ to determine statistical significance must always be determined before the experiment is conducted -- otherwise, there is too much temptation to adjust the threshold based on the observed relative frequency.**\n",
    "\n",
    "* The measured relative frequency of the observed effect is called the **<span style=\"color:blue\">$p$-value</span>**.\n",
    "\n",
    "In classical hypothesis testing, we do *not* test the alternative hypothesis directly, nor can we utilize side information that we may already have about the two hypotheses."
   ]
  },
  {
   "cell_type": "code",
   "execution_count": null,
   "metadata": {},
   "outputs": [],
   "source": []
  }
 ],
 "metadata": {
  "kernelspec": {
   "display_name": "Python 3",
   "language": "python",
   "name": "python3"
  },
  "language_info": {
   "codemirror_mode": {
    "name": "ipython",
    "version": 3
   },
   "file_extension": ".py",
   "mimetype": "text/x-python",
   "name": "python",
   "nbconvert_exporter": "python",
   "pygments_lexer": "ipython3",
   "version": "3.7.7"
  },
  "latex_envs": {
   "LaTeX_envs_menu_present": true,
   "autoclose": false,
   "autocomplete": true,
   "bibliofile": "biblio.bib",
   "cite_by": "apalike",
   "current_citInitial": 1,
   "eqLabelWithNumbers": true,
   "eqNumInitial": 1,
   "hotkeys": {
    "equation": "Ctrl-E",
    "itemize": "Ctrl-I"
   },
   "labels_anchors": false,
   "latex_user_defs": false,
   "report_style_numbering": false,
   "user_envs_cfg": false
  },
  "varInspector": {
   "cols": {
    "lenName": 16,
    "lenType": 16,
    "lenVar": 40
   },
   "kernels_config": {
    "python": {
     "delete_cmd_postfix": "",
     "delete_cmd_prefix": "del ",
     "library": "var_list.py",
     "varRefreshCmd": "print(var_dic_list())"
    },
    "r": {
     "delete_cmd_postfix": ") ",
     "delete_cmd_prefix": "rm(",
     "library": "var_list.r",
     "varRefreshCmd": "cat(var_dic_list()) "
    }
   },
   "types_to_exclude": [
    "module",
    "function",
    "builtin_function_or_method",
    "instance",
    "_Feature"
   ],
   "window_display": false
  }
 },
 "nbformat": 4,
 "nbformat_minor": 4
}
