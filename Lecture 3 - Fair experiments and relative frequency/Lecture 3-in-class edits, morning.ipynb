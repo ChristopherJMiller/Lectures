{
 "cells": [
  {
   "cell_type": "markdown",
   "metadata": {},
   "source": [
    "# Lecture 3 - Probability and Fair Experiments"
   ]
  },
  {
   "cell_type": "code",
   "execution_count": 4,
   "metadata": {},
   "outputs": [],
   "source": [
    "import matplotlib.pyplot as plt\n",
    "%matplotlib inline\n",
    "plt.style.use('ggplot') # Note that I'm using a different style sheet\n",
    "\n",
    "import random\n",
    "\n",
    "import numpy as np\n",
    "import numpy.random as npr"
   ]
  },
  {
   "cell_type": "markdown",
   "metadata": {},
   "source": [
    "The ```numpy``` library (stands for numerical Python) includes a lot of numerical functions as well as linear algebra functions.\n",
    "\n",
    "* A typical Notebook may now start with all library/module imports in the top cells."
   ]
  },
  {
   "cell_type": "markdown",
   "metadata": {},
   "source": [
    "## Probability and Fair Experiment"
   ]
  },
  {
   "cell_type": "markdown",
   "metadata": {},
   "source": [
    "**Probability** is a very useful concept that can be interpreted in a number of ways.\n",
    "\n",
    "The concept of probability is used to assess **uncertainty** of a situation, which can broadly be defined in two ways:\n",
    "* **Frequency of Occurrence**: percentage of successes in a moderately large number of similar situations. **Frequentist view**\n",
    "* **Subjective Belief**: use of personnal/group/cultural beliefs for given experiences of successful decision making. **Bayesian view**\n",
    "\n",
    "In order to describe uncertainty in terms of probabilistic models and probabilistic reasoning, we make use of the generic structure of such models and their basic properties, in particular **set theory**.\n",
    "\n",
    "* Make sure you watch the video on \"Lecture 3b - sets and set operations\" as preparation for this class."
   ]
  },
  {
   "cell_type": "markdown",
   "metadata": {},
   "source": [
    "<div class=\"alert alert-info\">\n",
    "    <b>Probability</b>\n",
    "    \n",
    "The **probability** of an event is a number between 0 and 1 that quantifies how likely that event is to occur. An event that cannot occur has probability 0, and an event that is sure to occur has probability 1. The probabilities of the outcomes sum to 1.\n",
    "</div>"
   ]
  },
  {
   "cell_type": "markdown",
   "metadata": {},
   "source": [
    "<div class=\"alert alert-info\">\n",
    "    <b>Fair</b>\n",
    "    \n",
    "We say an experiment is **fair** if every outcome is equally likely (they have the same probability).\n",
    "</div>\n",
    "\n",
    "Proof: Consider a fair experiment with $N$ outcomes, and let $p_i$ denote the probability of outcome $i$, then\n",
    "\n",
    "\\begin{align} \\sum_{i=1}^{N} p_i &= 1 \\\\\n",
    "\\sum_{i=1}^{N} p_1 &= 1 \\\\\n",
    "Np_1 &= 1\\\\\n",
    "p_1 &= \\frac 1 N\\\\\n",
    "p_i &= \\frac 1 N\n",
    "\\end{align}\n",
    "\n",
    "* For example, the probability of getting any number on a fair 6-sided die is 1/6. Let's compare these to the *relative frequencies*.\n",
    "\n",
    "But first let's see how to count the number of occurrences of each outcome:"
   ]
  },
  {
   "cell_type": "code",
   "execution_count": 5,
   "metadata": {},
   "outputs": [
    {
     "name": "stdout",
     "output_type": "stream",
     "text": [
      "[1, 4, 1, 6, 5, 4, 1, 2, 2, 4, 6, 6, 3, 3, 1, 1, 1, 5, 2, 6, 6, 6, 3, 1, 2, 3, 6, 6, 6, 5, 2, 5, 1, 5, 2, 2, 6, 4, 3, 5, 1, 2, 5, 2, 1, 5, 3, 6, 4, 6, 2, 3, 3, 2, 2, 6, 4, 6, 3, 6, 2, 3, 1, 3, 2, 2, 4, 4, 6, 4, 3, 5, 3, 1, 5, 3, 2, 4, 2, 2, 1, 4, 4, 6, 1, 6, 3, 1, 6, 5, 5, 1, 5, 1, 5, 2, 6, 1, 1, 6]\n"
     ]
    }
   ],
   "source": [
    "num_sims =100\n",
    "values =[]\n",
    "\n",
    "for sim in range(num_sims):\n",
    "    die = random.choice(range(1,7))\n",
    "    values +=[die]\n",
    "    \n",
    "print(values)"
   ]
  },
  {
   "cell_type": "code",
   "execution_count": 6,
   "metadata": {},
   "outputs": [
    {
     "name": "stdout",
     "output_type": "stream",
     "text": [
      "[5, 5, 4, 1, 2, 2, 3, 5, 5, 6, 4, 2, 3, 2, 1, 3, 6, 4, 1, 6, 5, 2, 4, 1, 6, 5, 2, 3, 5, 5, 2, 4, 6, 5, 3, 5, 2, 5, 2, 3, 1, 4, 5, 4, 5, 6, 1, 3, 5, 4, 3, 2, 6, 2, 4, 5, 6, 5, 1, 1, 6, 6, 1, 3, 1, 1, 5, 4, 5, 1, 4, 5, 1, 2, 6, 2, 2, 1, 1, 4, 2, 2, 5, 5, 5, 6, 1, 1, 4, 4, 4, 2, 5, 1, 5, 6, 1, 4, 6, 1]\n"
     ]
    }
   ],
   "source": [
    "# More efficient alternative\n",
    "\n",
    "num_sims=100\n",
    "values = random.choices(range(1,7), k=num_sims)\n",
    "print(values)"
   ]
  },
  {
   "cell_type": "markdown",
   "metadata": {},
   "source": [
    "Let's first keep a counter for each face value and increment that counter whenever we see that face value. Start with a list of 7 zeros (to give 7 counters from 0 to 6; we won't use counter 0):"
   ]
  },
  {
   "cell_type": "code",
   "execution_count": 7,
   "metadata": {},
   "outputs": [
    {
     "data": {
      "text/plain": [
       "[0, 0, 0, 0, 0, 0]"
      ]
     },
     "execution_count": 7,
     "metadata": {},
     "output_type": "execute_result"
    }
   ],
   "source": [
    "counters=[0]*6\n",
    "counters"
   ]
  },
  {
   "cell_type": "code",
   "execution_count": 8,
   "metadata": {},
   "outputs": [
    {
     "data": {
      "text/plain": [
       "[15, 20, 13, 18, 18, 16]"
      ]
     },
     "execution_count": 8,
     "metadata": {},
     "output_type": "execute_result"
    }
   ],
   "source": [
    "num_sims =100\n",
    "values =[]\n",
    "\n",
    "for sim in range(num_sims):\n",
    "    die = random.choice(range(1,7)) #single value\n",
    "    values +=[die]\n",
    "    counters[die-1]+=1\n",
    "    \n",
    "counters"
   ]
  },
  {
   "cell_type": "markdown",
   "metadata": {},
   "source": [
    "We can use these counters to make our first plots. Let's start with a simple bar graph:"
   ]
  },
  {
   "cell_type": "code",
   "execution_count": 11,
   "metadata": {},
   "outputs": [
    {
     "data": {
      "text/plain": [
       "[1, 2, 3, 4, 5, 6]"
      ]
     },
     "execution_count": 11,
     "metadata": {},
     "output_type": "execute_result"
    }
   ],
   "source": [
    "vals=list(range(1,7))\n",
    "vals"
   ]
  },
  {
   "cell_type": "code",
   "execution_count": 12,
   "metadata": {},
   "outputs": [
    {
     "data": {
      "image/png": "[encoded data removed]",
      "text/plain": [
       "<Figure size 432x288 with 1 Axes>"
      ]
     },
     "metadata": {},
     "output_type": "display_data"
    }
   ],
   "source": [
    "plt.bar(vals, counters);"
   ]
  },
  {
   "cell_type": "code",
   "execution_count": 13,
   "metadata": {},
   "outputs": [
    {
     "data": {
      "image/png": "[encoded data removed]",
      "text/plain": [
       "<Figure size 432x288 with 1 Axes>"
      ]
     },
     "metadata": {},
     "output_type": "display_data"
    }
   ],
   "source": [
    "plt.bar(vals, counters)\n",
    "plt.xlabel(\"Die face\")\n",
    "plt.ylabel('Number of Occurrences');"
   ]
  },
  {
   "cell_type": "markdown",
   "metadata": {},
   "source": [
    "Putting it all together, we have:"
   ]
  },
  {
   "cell_type": "code",
   "execution_count": 14,
   "metadata": {},
   "outputs": [
    {
     "data": {
      "image/png": "[encoded data removed]",
      "text/plain": [
       "<Figure size 432x288 with 1 Axes>"
      ]
     },
     "metadata": {},
     "output_type": "display_data"
    }
   ],
   "source": [
    "num_sims =100\n",
    "vals=list(range(1,7))\n",
    "\n",
    "for sim in range(num_sims):\n",
    "    die = random.choice(range(1,7)) #single value\n",
    "#     values +=[die]\n",
    "    counters[die-1]+=1\n",
    "    \n",
    "plt.bar(vals, counters)\n",
    "plt.xlabel(\"Die face\")\n",
    "plt.ylabel('Number of Occurrences');"
   ]
  },
  {
   "cell_type": "markdown",
   "metadata": {},
   "source": [
    "Here is a more elegant approach (using ```numpy```) if we just want the counts of the outcomes:"
   ]
  },
  {
   "cell_type": "code",
   "execution_count": 15,
   "metadata": {},
   "outputs": [
    {
     "data": {
      "text/plain": [
       "(array([1, 2, 3, 4, 5, 6]), array([171, 173, 159, 172, 177, 148], dtype=int64))"
      ]
     },
     "execution_count": 15,
     "metadata": {},
     "output_type": "execute_result"
    }
   ],
   "source": [
    "num_sims=1000\n",
    "outcomes=[]\n",
    "for sim in range(num_sims):\n",
    "    die=random.choice(range(1,7))\n",
    "    outcomes+=[die]\n",
    "    \n",
    "# The magic counting code goes here...\n",
    "np.unique(outcomes, return_counts=True)"
   ]
  },
  {
   "cell_type": "markdown",
   "metadata": {},
   "source": [
    "Then to get the **relative frequencies** is easy:"
   ]
  },
  {
   "cell_type": "code",
   "execution_count": 20,
   "metadata": {},
   "outputs": [
    {
     "name": "stdout",
     "output_type": "stream",
     "text": [
      "1 0.16713\n",
      "2 0.16663\n",
      "3 0.16856\n",
      "4 0.16664\n",
      "5 0.16739\n",
      "6 0.16365\n"
     ]
    }
   ],
   "source": [
    "num_sims=100000\n",
    "outcomes=[]\n",
    "for sim in range(num_sims):\n",
    "    die=random.choice(range(1,7))\n",
    "    outcomes+=[die]\n",
    "    \n",
    "# To be finished in class\n",
    "vals, counts = np.unique(outcomes, return_counts=True)\n",
    "for i in range(len(vals)):\n",
    "    print(vals[i], counts[i]/num_sims)"
   ]
  },
  {
   "cell_type": "code",
   "execution_count": 21,
   "metadata": {},
   "outputs": [
    {
     "data": {
      "image/png": "[encoded data removed]",
      "text/plain": [
       "<Figure size 432x288 with 1 Axes>"
      ]
     },
     "metadata": {},
     "output_type": "display_data"
    }
   ],
   "source": [
    "plt.bar(vals, counts/num_sims)\n",
    "plt.xlabel('Die face')\n",
    "plt.ylabel('Relative frequency');"
   ]
  },
  {
   "cell_type": "markdown",
   "metadata": {},
   "source": [
    "* How does the relative frequency of each outcome change as we increase/decrease the number of simulations?\n",
    "\n",
    "* What is your conclusion in terms of amount of data needed?\n",
    "\n",
    "* Does the relative frequency *converge* to some value as the number of simulations increases?"
   ]
  },
  {
   "cell_type": "markdown",
   "metadata": {},
   "source": [
    "Let's try that for another example; our experiment where we flip a coin 20 times:"
   ]
  },
  {
   "cell_type": "code",
   "execution_count": 24,
   "metadata": {
    "scrolled": false
   },
   "outputs": [
    {
     "name": "stdout",
     "output_type": "stream",
     "text": [
      "0 1e-06\n",
      "1 1.9e-05\n",
      "2 0.000196\n",
      "3 0.001115\n",
      "4 0.004614\n",
      "5 0.014563\n",
      "6 0.03724\n",
      "7 0.073557\n",
      "8 0.120372\n",
      "9 0.159998\n",
      "10 0.176465\n",
      "11 0.159362\n",
      "12 0.119859\n",
      "13 0.07444\n",
      "14 0.037186\n",
      "15 0.015072\n",
      "16 0.004637\n",
      "17 0.001084\n",
      "18 0.000205\n",
      "19 1.4e-05\n",
      "20 1e-06\n"
     ]
    }
   ],
   "source": [
    "faces = ['H','T']\n",
    "num_sims=1000000\n",
    "flips=20\n",
    "counts=[]\n",
    "\n",
    "for sim in range(num_sims):\n",
    "    coins=random.choices(faces,k=flips)\n",
    "    num_heads=coins.count('H')\n",
    "    counts+=[num_heads]\n",
    "\n",
    "# To be finished in class\n",
    "vals, counts = np.unique(counts, return_counts=True)\n",
    "for i in range(len(vals)):\n",
    "    print(vals[i],counts[i]/num_sims)"
   ]
  },
  {
   "cell_type": "markdown",
   "metadata": {},
   "source": [
    "We can **speed up** this simulation by using the 2D array notation introduced in the preparation video:"
   ]
  },
  {
   "cell_type": "code",
   "execution_count": 26,
   "metadata": {},
   "outputs": [
    {
     "name": "stdout",
     "output_type": "stream",
     "text": [
      "0 1e-06\n",
      "1 1.7e-05\n",
      "2 0.000179\n",
      "3 0.001118\n",
      "4 0.004618\n",
      "5 0.014764\n",
      "6 0.037027\n",
      "7 0.073802\n",
      "8 0.120287\n",
      "9 0.160924\n",
      "10 0.17524\n",
      "11 0.160294\n",
      "12 0.120172\n",
      "13 0.073859\n",
      "14 0.036867\n",
      "15 0.014874\n",
      "16 0.004685\n",
      "17 0.00107\n",
      "18 0.000178\n",
      "19 2.4e-05\n"
     ]
    }
   ],
   "source": [
    "results = npr.randint(2,size=(num_sims,flips))\n",
    "num_heads=np.sum(results, axis=1)\n",
    "\n",
    "# To be finished in class\n",
    "vals, counts = np.unique(num_heads, return_counts=True)\n",
    "for i in range(len(vals)):\n",
    "    print(vals[i], counts[i]/num_sims)"
   ]
  },
  {
   "cell_type": "code",
   "execution_count": 27,
   "metadata": {},
   "outputs": [
    {
     "data": {
      "image/png": "[encoded data removed]",
      "text/plain": [
       "<Figure size 432x288 with 1 Axes>"
      ]
     },
     "metadata": {},
     "output_type": "display_data"
    }
   ],
   "source": [
    "plt.bar(vals, counts)\n",
    "plt.xlabel('Number of Heads (in 20 coin flip experiment)')\n",
    "plt.ylabel('Relative Frequency');"
   ]
  },
  {
   "cell_type": "markdown",
   "metadata": {},
   "source": [
    "* So why are the outcomes of this experiment not equally likely?"
   ]
  },
  {
   "cell_type": "markdown",
   "metadata": {},
   "source": [
    "This experiment is a special case of a sequential probabilist model, also called **combined experiment**. Before we characterize it, we need to:\n",
    "1. relate relative frequency with probability, and\n",
    "2. define probabilistic models"
   ]
  },
  {
   "cell_type": "markdown",
   "metadata": {},
   "source": [
    "## Probability as a Measure of Frequency of Occurrence"
   ]
  },
  {
   "cell_type": "markdown",
   "metadata": {},
   "source": [
    "In the experiments we have conducted, the relative frequencies converge to some constant values when the number of trials gets large.\n",
    "\n",
    "* The experiments we have conducted are fair or are combined experiments with fair sub-experiments, for which we (now) know how to calculate the probabilities:\n",
    "\n",
    "<h3 align=\"center\">the relative frequencies converge to the probabilities</h3>\n",
    "    \n",
    "* If the relative frequencies converge for an experiment, we say the experiment possesses *statistical regularity* and consider those here."
   ]
  },
  {
   "cell_type": "markdown",
   "metadata": {},
   "source": [
    "Consider a random experiment that has $K$ possible outcomes, where $K<\\infty$.\n",
    "\n",
    "Let $N_k(n) = \\text{the number of times the outcome is }k$ and let the relative frequency of outcome $k$ be\n",
    "\n",
    "$$r_k(n) = \\frac{N_k(n)}{n}$$"
   ]
  },
  {
   "cell_type": "markdown",
   "metadata": {},
   "source": [
    "If the relative frequencies converge, i.e., $\\lim_{n\\rightarrow\\infty}r_k(n)$ is a constant for each $k$, then:"
   ]
  },
  {
   "cell_type": "markdown",
   "metadata": {},
   "source": [
    "<div class=\"alert alert-info\">\n",
    "    <b>Probability as a Measure of Frequency of Occurrence</b>\n",
    "    \n",
    "For experiments with statistical regularity,\n",
    "    $$\\lim_{n\\rightarrow\\infty} r_k(n) = p_k$$\n",
    "is called the **probability of outcome $k$**.\n",
    "</div>"
   ]
  },
  {
   "cell_type": "markdown",
   "metadata": {},
   "source": [
    "### Properties of Relative Frequency"
   ]
  },
  {
   "cell_type": "markdown",
   "metadata": {},
   "source": [
    "Note that \n",
    "\n",
    "$$0 \\leq N_k(n) \\leq n, \\forall k$$\n",
    "\n",
    "because $N_k(n)$ is just the \\# of times outcome $k$ occurs in $n$ trials.\n",
    "\n",
    "Dividing by $n$ yields:\n",
    "\n",
    "$$0 \\leq \\frac{N_k(n)}{n} = r_k(n) \\leq 1, \\forall k=1,\\dots,K$$"
   ]
  },
  {
   "cell_type": "markdown",
   "metadata": {},
   "source": [
    "If $1,2,\\dots,K$ are all of the possible outcomes, then\n",
    "\n",
    "$$\\sum_{k=1}^K N_k(n) = n$$\n",
    "\n",
    "Again, dividing by $n$ yields:\n",
    "\n",
    "$$\\sum_{k=1}^K r_k(n) = 1$$"
   ]
  },
  {
   "cell_type": "markdown",
   "metadata": {},
   "source": [
    "For example: Consider rolling a 6-sided die and let the **event** $E=\\text{even number occurs}$.\n",
    "\n",
    "* *What can we say about the number of times $E$ is observed in $n$ trials?*\n",
    "\n",
    "$$N_E(n) = N_2(n) + N_4(n) + N_6(n)$$"
   ]
  },
  {
   "cell_type": "markdown",
   "metadata": {},
   "source": [
    "* *What have we assumed in developing this equations?*\n",
    "\n",
    "That the outcomes 2, 4 and 5 are mutually exclusive."
   ]
  },
  {
   "cell_type": "markdown",
   "metadata": {},
   "source": [
    "Then, dividing the $N_E(n)$ by $n$,\n",
    "\n",
    "\\begin{align} r_E(n) = \\frac{N_E(n)}{n} &= \\frac{N_2(n) + N_4(n) + N_6(n)}{n} \\\\\n",
    "&= r_2(n) + r_4(n) + r_6(n)\n",
    "\\end{align}"
   ]
  },
  {
   "cell_type": "markdown",
   "metadata": {},
   "source": [
    "* **General property:** If $A$ and $B$ are 2 mutually exclusive (m.e.) events, and $C$ is the event that either $A$ or $B$ occurs, then\n",
    "\n",
    "$$r_C(n) = r_A(n) + r_B(n)$$"
   ]
  },
  {
   "cell_type": "markdown",
   "metadata": {},
   "source": [
    "* *What are some problems with defining probabilities as the limits of relative frequencies?*\n",
    "\n",
    "    1. It is not clear when and in what sense the limit exists.\n",
    "    2. It is not possible to perform an experiment an infinite number of times, so the probabilities can never be known exactly.\n",
    "    3. We cannot use this definition if the experiment cannot be repeated."
   ]
  },
  {
   "cell_type": "markdown",
   "metadata": {},
   "source": [
    "We need a <font color=blue>mathematical model of probability</font> that is not based on a particular application or interpretation. However, any such model should:\n",
    "1. be useful for solving real problems\n",
    "2. agree with out interpretation of probability as relative frequency\n",
    "3. agree with out intuition (<font color=blue>where appropriate!</font>)"
   ]
  },
  {
   "cell_type": "markdown",
   "metadata": {},
   "source": [
    "## Probabilistic Models"
   ]
  },
  {
   "cell_type": "markdown",
   "metadata": {},
   "source": [
    "We define a *probabilistic model* as a mathematical construction containing three elements. We say that a probability model is a *triple*: $(\\Omega,\\mathcal{F}, P)$."
   ]
  },
  {
   "cell_type": "markdown",
   "metadata": {},
   "source": [
    "We have already defined the **sample space** $\\Omega$ and the event class $\\mathcal{F}$. We need to specificy $P$:\n",
    "\n",
    "<div class=\"alert alert-info\">\n",
    "The <strong>probability measure</strong>, denoted by $P$ is a numerically-valued set function that maps all members of $\\mathcal{F}$ onto $\\mathbb{R}$.\n",
    "</div>"
   ]
  },
  {
   "cell_type": "markdown",
   "metadata": {},
   "source": [
    "Gathering this info together, we have:\n",
    "\n",
    "<div class=\"alert alert-info\">\n",
    "    <b>Elements of a Probabilistic Model: $(\\Omega, \\mathcal{F}, P)$</b>\n",
    "    \n",
    "* The **sample space** $\\Omega$, which is the set of all possible **outcomes** of an experiment. Different elements of the sample space should be distinct and *mutually exclusive*\n",
    "\n",
    "* The **event** $\\mathcal{F}$ a subset of the sample space, that is, a collection of possible **outcomes**\n",
    "\n",
    "* The **probability measure** $P$ is a numerically-valued set function that maps all members of $\\mathcal{F}$ onto $\\mathbb{R}$, that is, $P: \\mathcal{F} \\longrightarrow \\mathbb{R}$.\n",
    "</div>"
   ]
  },
  {
   "cell_type": "markdown",
   "metadata": {},
   "source": [
    "Consider an experiment with equally likely outcomes $S$, where $|S|=N$.\n",
    "\n",
    "If $E \\subset S$ is an event that consists of $K$ equally likely outcomes\n",
    "(i.e,. $E=\\{ o_1, o_2, \\ldots, o_K\\}$ \n",
    "    \\begin{eqnarray*}\n",
    "      P(E) &=& \\sum_{j=1}^{K} P(o_j) \\\\\n",
    "       &=& \\sum_{j=1}^{|E|} \\frac{1}{|S|}  \\\\\n",
    "       &=& \\frac{|E|}{N} = \\frac{K}{N}\n",
    "    \\end{eqnarray*}"
   ]
  },
  {
   "cell_type": "markdown",
   "metadata": {},
   "source": [
    "* <font color=blue>Example:</font> What is the probability of getting a 1 or 2 when rolling a fair 6-sided die?\n",
    "\n",
    "$\\Omega=\\{1,2,\\ldots, 6\\}$\n",
    "$E=\\{1,2\\}$ \n",
    "\n",
    "$P(E)=\\frac{|E|}{|S|}=2/6=1/3$"
   ]
  },
  {
   "cell_type": "markdown",
   "metadata": {},
   "source": [
    "## Axioms of Probability"
   ]
  },
  {
   "cell_type": "markdown",
   "metadata": {},
   "source": [
    "**Axioms:** we specify a minimal set of rules that $P$ must obey."
   ]
  },
  {
   "cell_type": "markdown",
   "metadata": {},
   "source": [
    "1. $\\forall E\\in\\mathcal{F}, P(E)\\geq 0$"
   ]
  },
  {
   "cell_type": "markdown",
   "metadata": {},
   "source": [
    "2. $P(\\Omega)=1$"
   ]
  },
  {
   "cell_type": "markdown",
   "metadata": {},
   "source": [
    "3. $\\forall E, F \\in \\mathcal{F}, P(E\\cup F) = P(E) + P(F)$ if $E$ and $F$ are mutually exclusive, that is, $E\\cap F =\\emptyset$"
   ]
  },
  {
   "cell_type": "markdown",
   "metadata": {},
   "source": [
    "4. If $A_1,A_2,\\dots$ is a sequence of event such that $A_i\\cap A_j = \\emptyset \\forall i\\neq j$, then\n",
    "\n",
    "$$P\\left(\\bigcup_{k=1}^{\\infty} A_k\\right) = \\sum_{k=1}^{\\infty} P(A_k)$$"
   ]
  },
  {
   "cell_type": "markdown",
   "metadata": {},
   "source": [
    "We can use Axioms 1-3 to deal with finite sample spaces. However, Axiom 4 is required instead of Axiom 3 for infinite sample spaces.\n",
    "\n",
    "* Axiom 3 is a special case of Axiom 4.\n",
    "* The unions and summations in Axiom 4 are over countable index sets only."
   ]
  },
  {
   "cell_type": "markdown",
   "metadata": {},
   "source": [
    "### Corollaries"
   ]
  },
  {
   "cell_type": "markdown",
   "metadata": {},
   "source": [
    "Let $A\\in\\mathcal{F}$ and $B\\in\\mathcal{F}$ be two events. Then the following properties of $P$ can be derived from the axioms and the mathematical structure of $\\mathcal{F}$:\n",
    "\n",
    "* **Let's use the virtual whiteboard to prove these corollaries**"
   ]
  },
  {
   "cell_type": "markdown",
   "metadata": {},
   "source": [
    "1. $P(A^c) = 1 - P(A)$"
   ]
  },
  {
   "cell_type": "markdown",
   "metadata": {},
   "source": [
    "2. $P(A) \\leq 1$"
   ]
  },
  {
   "cell_type": "markdown",
   "metadata": {},
   "source": [
    "3. $P(\\emptyset) = 0 $"
   ]
  },
  {
   "cell_type": "markdown",
   "metadata": {},
   "source": [
    "4. If $A_1,A_2,\\dots,A_n$ are pairwise mutually exclusive, then $P\\left(\\bigcup_{k=1}^n A_k\\right) = \\sum_{k=1}^n P(A_k)$. Proof is by induction."
   ]
  },
  {
   "cell_type": "markdown",
   "metadata": {},
   "source": [
    "5. $P(A\\cup B) = P(A) + P(B) - P(A\\cap B)$\n",
    "    * **Exercise:** A fair six-sided die is rolled twice. What is the probability of observing either a 1 or a 2 on the top face on either roll? "
   ]
  },
  {
   "cell_type": "markdown",
   "metadata": {},
   "source": [
    "6. $P\\left(\\bigcup_{k=1}^n A_k\\right) = \\sum_{k=1}^n P(A_j) - \\sum_{j<k} P(A_j\\cap A_k) + \\dots + (-1)^{(n+1)}P(A_1\\cap A_2 \\cap \\dots\\cap A_n)$\n",
    "\n",
    "* *Add all single events, subtract off all intersections of pairs of events, add in all intersections of 3 events, ...* Proof is by induction."
   ]
  },
  {
   "cell_type": "markdown",
   "metadata": {},
   "source": [
    "7. If $A\\subset B$, then $P(A)\\leq P(B)$"
   ]
  },
  {
   "cell_type": "code",
   "execution_count": null,
   "metadata": {},
   "outputs": [],
   "source": []
  }
 ],
 "metadata": {
  "kernelspec": {
   "display_name": "Python 3",
   "language": "python",
   "name": "python3"
  },
  "language_info": {
   "codemirror_mode": {
    "name": "ipython",
    "version": 3
   },
   "file_extension": ".py",
   "mimetype": "text/x-python",
   "name": "python",
   "nbconvert_exporter": "python",
   "pygments_lexer": "ipython3",
   "version": "3.7.7"
  },
  "latex_envs": {
   "LaTeX_envs_menu_present": true,
   "autoclose": false,
   "autocomplete": true,
   "bibliofile": "biblio.bib",
   "cite_by": "apalike",
   "current_citInitial": 1,
   "eqLabelWithNumbers": true,
   "eqNumInitial": 1,
   "hotkeys": {
    "equation": "Ctrl-E",
    "itemize": "Ctrl-I"
   },
   "labels_anchors": false,
   "latex_user_defs": false,
   "report_style_numbering": false,
   "user_envs_cfg": false
  },
  "varInspector": {
   "cols": {
    "lenName": 16,
    "lenType": 16,
    "lenVar": 40
   },
   "kernels_config": {
    "python": {
     "delete_cmd_postfix": "",
     "delete_cmd_prefix": "del ",
     "library": "var_list.py",
     "varRefreshCmd": "print(var_dic_list())"
    },
    "r": {
     "delete_cmd_postfix": ") ",
     "delete_cmd_prefix": "rm(",
     "library": "var_list.r",
     "varRefreshCmd": "cat(var_dic_list()) "
    }
   },
   "types_to_exclude": [
    "module",
    "function",
    "builtin_function_or_method",
    "instance",
    "_Feature"
   ],
   "window_display": false
  }
 },
 "nbformat": 4,
 "nbformat_minor": 4
}
